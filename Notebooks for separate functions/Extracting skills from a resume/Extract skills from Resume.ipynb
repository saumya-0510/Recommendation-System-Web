{
 "cells": [
  {
   "cell_type": "code",
   "execution_count": 2,
   "id": "4d9a52c3",
   "metadata": {},
   "outputs": [],
   "source": [
    "from pyresparser import ResumeParser\n",
    "import os\n",
    "from docx import Document"
   ]
  },
  {
   "cell_type": "code",
   "execution_count": 6,
   "id": "78b6312e",
   "metadata": {},
   "outputs": [],
   "source": [
    "filed = 'ResumeP.pdf'"
   ]
  },
  {
   "cell_type": "code",
   "execution_count": 8,
   "id": "ddc64022",
   "metadata": {},
   "outputs": [
    {
     "name": "stdout",
     "output_type": "stream",
     "text": [
      "['Html', 'Javascript', 'Xml', 'Technical skills', 'Paste', 'Try', 'Sql', 'Python', 'Excel', 'Css', 'Research', 'Java', 'Coding', 'Android', 'Database', 'Engineering', 'Algorithms', 'Github', 'Technical']\n"
     ]
    }
   ],
   "source": [
    "try:\n",
    "    doc = Document()\n",
    "    with open(filed, 'r') as file:\n",
    "        doc.add_paragraph(file.read())\n",
    "    doc.save(\"text.docx\")\n",
    "    data = ResumeParser('text.docx').get_extracted_data()\n",
    "    #print(data['skills'])\n",
    "except:\n",
    "    data = ResumeParser(filed).get_extracted_data()\n",
    "    #print(data['skills']) \n",
    "    \n",
    "skills = data['skills']\n",
    "print(skills)"
   ]
  },
  {
   "cell_type": "code",
   "execution_count": null,
   "id": "5ce6121e",
   "metadata": {},
   "outputs": [],
   "source": []
  }
 ],
 "metadata": {
  "kernelspec": {
   "display_name": "Python 3",
   "language": "python",
   "name": "python3"
  },
  "language_info": {
   "codemirror_mode": {
    "name": "ipython",
    "version": 3
   },
   "file_extension": ".py",
   "mimetype": "text/x-python",
   "name": "python",
   "nbconvert_exporter": "python",
   "pygments_lexer": "ipython3",
   "version": "3.8.8"
  }
 },
 "nbformat": 4,
 "nbformat_minor": 5
}
